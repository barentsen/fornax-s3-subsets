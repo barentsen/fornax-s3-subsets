{
 "cells": [
  {
   "cell_type": "code",
   "execution_count": 1,
   "id": "710f70e2",
   "metadata": {
    "pycharm": {
     "name": "#%%\n"
    }
   },
   "outputs": [],
   "source": [
    "from functools import partial\n",
    "from itertools import chain\n",
    "from pathlib import Path\n",
    "import shutil\n",
    "\n",
    "from cytoolz import groupby\n",
    "from cytoolz.curried import get\n",
    "from gPhoton.coadd import coadd_image_slices\n",
    "from killscreen.monitors import Stopwatch\n",
    "import matplotlib.pyplot as plt\n",
    "import numpy as np\n",
    "import pandas as pd\n",
    "import pyarrow as pa\n",
    "import pyarrow.csv\n",
    "from pyarrow import parquet\n",
    "\n",
    "from s3_fuse.mount_s3 import mount_bucket\n",
    "from s3_fuse.ps1_utils import prune_ps1_catalog, get_ps1_cutouts\n",
    "from s3_fuse.galex_utils import get_galex_cutouts\n",
    "from s3_fuse.utilz import make_loaders, sample_table, parse_topline\n",
    "\n",
    "%matplotlib notebook"
   ]
  },
  {
   "cell_type": "code",
   "execution_count": 2,
   "id": "86eed92e",
   "metadata": {
    "pycharm": {
     "name": "#%%\n"
    }
   },
   "outputs": [],
   "source": [
    "# 'configuration'\n",
    "\n",
    "BUCKET = 'nishapur'\n",
    "S3_ROOT = '/mnt/s3'\n",
    "\n",
    "mount_bucket(\n",
    "    backend=\"goofys\", remount=False, mount_path=S3_ROOT, bucket=BUCKET\n",
    ")\n",
    "\n",
    "# desired cutout side length in degrees\n",
    "CUTOUT_SIDE_LENGTH = 60 / 3600\n",
    "\n",
    "# which PS1 bands are we looking at? (currently only g and z are staged.)\n",
    "PS1_BANDS = (\"g\", \"z\")\n",
    "# shall we do GALEX stuff?\n",
    "DO_GALEX_STUFF = False\n",
    "\n",
    "# select loaders -- options are \"astropy\", \"fitsio\", \"greedy_astropy\", \"greedy_fitsio\"\n",
    "# NOTE: because all the files this particular notebook is looking\n",
    "# at are RICE-compressed, there is unlikely to be much difference\n",
    "# between astropy and greedy_astropy -- astropy does not support\n",
    "# loading individual tiles from a a tile-compressed FITS file.\n",
    "LOADERS = make_loaders(\"fitsio\",)"
   ]
  },
  {
   "cell_type": "code",
   "execution_count": 3,
   "id": "ec99697a",
   "metadata": {
    "pycharm": {
     "name": "#%%\n"
    }
   },
   "outputs": [],
   "source": [
    "# catalog of PS1 extragalactic extended objects, including explicit \n",
    "# assignments to PS1 stack image projection / sky cells and GALEX \n",
    "# eclipse numbers\n",
    "catalog_fn = \"ps1_extragalactic_skycells_eclipses.parquet\"\n",
    "if not Path(catalog_fn).exists():\n",
    "    shutil.copy(\n",
    "        Path(S3_ROOT, \"ps1/metadata\", catalog_fn),\n",
    "        Path(catalog_fn)\n",
    "    )\n",
    "catalog = parquet.read_table(catalog_fn)\n",
    "\n",
    "# for this demo, we only staged a subset of those PS1 stack images \n",
    "# (all of them at all 5 bands would be > 80 TB). this is a list of \n",
    "# the (randomly selected) projection and sky cells we staged.\n",
    "test_cell_fn = \"ps1_extragalactic_skycells_eclipses_1k_cell_subset.csv\"\n",
    "arbitrary_test_cells = (\n",
    "    pa.csv\n",
    "    .read_csv(Path(S3_ROOT, \"ps1/metadata\", test_cell_fn))\n",
    "    .cast(pa.schema([(\"proj_cell\", pa.uint16()), (\"sky_cell\", pa.uint8())]))\n",
    ")\n",
    "small_catalog = prune_ps1_catalog(catalog, arbitrary_test_cells)\n",
    "\n",
    "# and a little pruning on GALEX: this is a table of actually-existing MIS-like \n",
    "# images by eclipse number, excluding eclipses with data currently flagged as bad\n",
    "extant_mislike = pd.read_csv(Path(S3_ROOT, \"extant_mislike_eclipses.csv\"))['0']"
   ]
  },
  {
   "cell_type": "code",
   "execution_count": 22,
   "id": "e5ae7390",
   "metadata": {
    "pycharm": {
     "name": "#%%\n"
    }
   },
   "outputs": [],
   "source": [
    "# how many objects shall we collect slices for? (785510 are available in this test set)\n",
    "TARGET_COUNT = 16\n",
    "# optional parameter -- restrict the total number of PS1 source cells to test the \n",
    "# performance effects of denser sampling (1000 total PS1 cells are available in this test set).\n",
    "# note that the number of actual images accessed is a factor of both the number of cells\n",
    "# and the number of bands under consideration.\n",
    "# if GALEX fusion is taking place, this will also indirectly\n",
    "# restrict the number of GALEX images.\n",
    "MAX_CELL_COUNT = 3\n",
    "if MAX_CELL_COUNT is not None:\n",
    "    test_catalog = prune_ps1_catalog(\n",
    "        small_catalog, sample_table(arbitrary_test_cells, k=MAX_CELL_COUNT)\n",
    "    )\n",
    "else:\n",
    "    test_catalog = small_catalog\n",
    "targets = sample_table(test_catalog, k=TARGET_COUNT).to_pylist()\n",
    "ps1_stacks = set(map(get(['proj_cell', 'sky_cell']), targets))\n",
    "galex_eclipses = {\n",
    "    e for e in tuple(chain.from_iterable(map(get('galex'), targets)))\n",
    "    if e in extant_mislike.values\n",
    "}"
   ]
  },
  {
   "cell_type": "code",
   "execution_count": 23,
   "id": "97fe8e90",
   "metadata": {
    "pycharm": {
     "name": "#%%\n"
    }
   },
   "outputs": [],
   "source": [
    "# per-loader performance-tuning parameters\n",
    "# image_chunksize: how many images shall we initialize at once?\n",
    "# image_threads: how many threads shall we init with in parallel? (None to disable.)\n",
    "# cut_threads: how many threads shall we cut with in parallel? (None to disable.)\n",
    "TUNING = {\n",
    "    \"fitsio\": {\"image_chunksize\": 40, \"image_threads\": 7, \"cut_threads\": 7},\n",
    "    \"greedy_fitsio\": {\"image_chunksize\": 40, \"image_threads\": 4, \"cut_threads\": None},\n",
    "    \"default\": {\"image_chunksize\": 40, \"image_threads\": 4, \"cut_threads\": 4},\n",
    "}"
   ]
  },
  {
   "cell_type": "code",
   "execution_count": null,
   "id": "8692e701",
   "metadata": {
    "pycharm": {
     "name": "#%%\n",
     "is_executing": true
    },
    "scrolled": false
   },
   "outputs": [],
   "source": [
    "ps1_groups = groupby(get(['proj_cell', 'sky_cell']), targets)\n",
    "ps1_cutouts = {}\n",
    "logs = {}\n",
    "DO_GALEX_STUFF = True\n",
    "for loader_name, loader in LOADERS.items():\n",
    "    # remount bucket to avoid \"cheating\" -- note that this is still a little cheaty\n",
    "    # because of unreliable, unmodifiable, and entirely black-box caching on S3 side, and loaders\n",
    "    # later in the list will tend to do better. for a 'fairer' comparison, reroll\n",
    "    # between each loader.\n",
    "    print(f\"----testing {loader_name}----\")\n",
    "    mount_bucket(\n",
    "        backend=\"goofys\", remount=True, mount_path=S3_ROOT, bucket=BUCKET\n",
    "    )\n",
    "    tuning_params = TUNING[loader_name] if loader_name in TUNING.keys() else TUNING[\"default\"]\n",
    "    ps1_cuts, logs[loader_name] = get_ps1_cutouts(\n",
    "        ps1_stacks, \n",
    "        loader, \n",
    "        targets, \n",
    "        CUTOUT_SIDE_LENGTH, \n",
    "        f\"{S3_ROOT}/ps1\", \n",
    "        PS1_BANDS,\n",
    "        verbose=2,\n",
    "        **tuning_params\n",
    "    )\n",
    "    rate, weight = parse_topline(logs[loader_name])\n",
    "    print(f\"{rate} cutouts/s, {weight} MB / cutout\")\n",
    "    if DO_GALEX_STUFF is True:\n",
    "        galex_slices, logs[f\"{loader_name}_galex\"] = get_galex_cutouts(\n",
    "            galex_eclipses,\n",
    "            loader,\n",
    "            targets,\n",
    "            CUTOUT_SIDE_LENGTH,\n",
    "            f\"{S3_ROOT}\",\n",
    "            [\"NUV\"],\n",
    "            **tuning_params\n",
    "        )\n",
    "        rate, weight = parse_topline(logs[f\"{loader_name}_galex\"])\n",
    "        print(f\"{rate} cutouts/s, {weight} MB / cutout\")\n",
    "        watch = Stopwatch(silent=True)\n",
    "        watch.start()\n",
    "        galex_coadds, coadd_wcs = {}, {}\n",
    "        print(\n",
    "            f\"...coadding {len(galex_slices)} image slices...\", \n",
    "            end=\"\"\n",
    "        )\n",
    "        # cutouts chunked by obj_id -- each item in obj_slices\n",
    "        # is a list of cuts around a single sky position\n",
    "        # taken from all eclipses which we found that sky position\n",
    "        obj_slices = groupby('obj_id', galex_slices)\n",
    "        for obj_id, images in obj_slices.items():\n",
    "            if len(images) == 0:\n",
    "                print(\"all GALEX images for {obj_id} are bad, skipping\")\n",
    "            galex_coadds[obj_id], coadd_wcs[obj_id] = coadd_image_slices(images)\n",
    "        print(f\"coadded GALEX cutouts,{watch.peek()}s\")\n",
    "\n",
    "\n"
   ]
  },
  {
   "cell_type": "code",
   "execution_count": null,
   "outputs": [],
   "source": [
    "def centile_clip(array, percentiles):\n",
    "    low, high = np.percentile(array, percentiles)\n",
    "    return np.clip(array, low, high)\n",
    "\n",
    "clipper = partial(centile_clip, percentiles = (5, 99))\n",
    "\n",
    "ps1_cuts = sorted(ps1_cuts, key=lambda cut: cut['obj_id'])\n",
    "ps1_frames = tuple(map(clipper, [cut['arrays'][0] for cut in ps1_cuts if '.g.' in cut['path']]))\n",
    "square = int(len(ps1_frames)**(0.5))\n",
    "\n",
    "fig, grid = plt.subplot_mosaic(np.arange(square**2).reshape((square,square)))\n",
    "for ix, cell in grid.items():\n",
    "    cell.set_axis_off()\n",
    "    cell.imshow(ps1_frames[ix], cmap='hot')"
   ],
   "metadata": {
    "collapsed": false,
    "pycharm": {
     "name": "#%%\n"
    }
   }
  },
  {
   "cell_type": "code",
   "execution_count": null,
   "id": "3a15c527",
   "metadata": {
    "pycharm": {
     "name": "#%%\n",
     "is_executing": true
    }
   },
   "outputs": [],
   "source": [
    "if DO_GALEX_STUFF is True:\n",
    "    galex_coadds = {k: galex_coadds[k] for k in sorted(galex_coadds.keys())}\n",
    "    galex_frames = tuple(map(clipper, galex_coadds.values()))\n",
    "    square = int(len(galex_frames) ** 0.5)\n",
    "\n",
    "    fig, grid = plt.subplot_mosaic(np.arange(square**2).reshape((square,square)))\n",
    "    for ix, cell in grid.items():\n",
    "        cell.set_axis_off()\n",
    "        cell.imshow(galex_frames[ix], cmap='cividis')"
   ]
  }
 ],
 "metadata": {
  "kernelspec": {
   "display_name": "Python 3 (ipykernel)",
   "language": "python",
   "name": "python3"
  },
  "language_info": {
   "codemirror_mode": {
    "name": "ipython",
    "version": 3
   },
   "file_extension": ".py",
   "mimetype": "text/x-python",
   "name": "python",
   "nbconvert_exporter": "python",
   "pygments_lexer": "ipython3",
   "version": "3.9.12"
  }
 },
 "nbformat": 4,
 "nbformat_minor": 5
}