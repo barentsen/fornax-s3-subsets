{
 "cells": [
  {
   "cell_type": "code",
   "execution_count": null,
   "id": "710f70e2",
   "metadata": {
    "pycharm": {
     "name": "#%%\n"
    }
   },
   "outputs": [],
   "source": [
    "from collections import defaultdict\n",
    "from itertools import chain\n",
    "from multiprocessing import cpu_count, Pool\n",
    "from pathlib import Path\n",
    "import shutil\n",
    "import re\n",
    "\n",
    "from cytoolz import groupby\n",
    "from cytoolz.curried import get\n",
    "from gPhoton.pretty import print_stats\n",
    "from killscreen.monitors import Netstat, Stopwatch\n",
    "import pandas as pd\n",
    "import pyarrow as pa\n",
    "import pyarrow.csv\n",
    "from pyarrow import parquet\n",
    "\n",
    "from s3_fuse.mount_s3 import mount_bucket\n",
    "from s3_fuse.ps1_utils import prune_ps1_catalog, get_ps1_cutouts\n",
    "from s3_fuse.utilz import make_loaders, sample_table"
   ]
  },
  {
   "cell_type": "code",
   "execution_count": null,
   "id": "86eed92e",
   "metadata": {
    "pycharm": {
     "name": "#%%\n"
    }
   },
   "outputs": [],
   "source": [
    "# 'configuration'\n",
    "\n",
    "BUCKET = 'nishapur'\n",
    "S3_ROOT = '/mnt/s3'\n",
    "\n",
    "mount_bucket(\n",
    "    backend=\"goofys\", remount=False, mount_path=S3_ROOT, bucket=BUCKET\n",
    ")\n",
    "\n",
    "# desired cutout side length in degrees\n",
    "CUTOUT_SIDE_LENGTH = 60 / 3600\n",
    "\n",
    "# which PS1 bands are we looking at? (currently only g and z are staged.)\n",
    "PS1_BANDS = (\"g\", \"z\")\n",
    "\n",
    "# select loaders -- options are \"astropy\", \"fitsio\", \"greedy_astropy\", \"greedy_fitsio\"\n",
    "# NOTE: because all the files this particular notebook is looking\n",
    "# at are RICE-compressed, there is unlikely to be much difference\n",
    "# between astropy and greedy_astropy -- astropy does not support\n",
    "# loading individual tiles from a a tile-compressed FITS file.\n",
    "LOADERS = make_loaders(\"fitsio\",)\n",
    "\n",
    "def cleanup_loader(loader_name):\n",
    "    if \"greedy\" in loader_name:\n",
    "        shutil.rmtree(\"/dev/shm/slicetemp\", ignore_errors=True)\n",
    "        \n",
    "def parse_topline(log):\n",
    "    total = next(reversed(log.values()))\n",
    "    summary, duration, volume = total.split(\",\")\n",
    "    cut_count = int(re.search(r\"\\d+\", summary).group())\n",
    "    seconds = float(re.search(r\"\\d+\\.?\\d+\", duration).group())\n",
    "    megabytes = float(re.search(r\"\\d+\\.?\\d+\", volume).group())\n",
    "    rate = cut_count / seconds\n",
    "    weight = megabytes / cut_count\n",
    "    return round(rate, 2), round(weight, 2)"
   ]
  },
  {
   "cell_type": "code",
   "execution_count": null,
   "id": "ec99697a",
   "metadata": {
    "pycharm": {
     "name": "#%%\n"
    }
   },
   "outputs": [],
   "source": [
    "# catalog of PS1 extragalactic extended objects, including explicit \n",
    "# assignments to PS1 stack image projection / sky cells and GALEX \n",
    "# eclipse numbers (not used here)\n",
    "catalog_fn = \"ps1_extragalactic_skycells_eclipses.parquet\"\n",
    "if not Path(catalog_fn).exists():\n",
    "    shutil.copy(\n",
    "        Path(S3_ROOT, \"ps1/metadata\", catalog_fn),\n",
    "        Path(catalog_fn)\n",
    "    )\n",
    "catalog = parquet.read_table(catalog_fn)\n",
    "\n",
    "# for this demo, we only staged a subset of those PS1 stack images \n",
    "# (all of them at all 5 bands would be > 80 TB). this is a list of \n",
    "# the (randomly selected) projection and sky cells we staged.\n",
    "test_cell_fn = \"ps1_extragalactic_skycells_eclipses_1k_cell_subset.csv\"\n",
    "arbitrary_test_cells = (\n",
    "    pa.csv\n",
    "    .read_csv(Path(S3_ROOT, \"ps1/metadata\", test_cell_fn))\n",
    "    .cast(pa.schema([(\"proj_cell\", pa.uint16()), (\"sky_cell\", pa.uint8())]))\n",
    ")\n",
    "small_catalog = prune_ps1_catalog(catalog, arbitrary_test_cells)\n",
    "del catalog"
   ]
  },
  {
   "cell_type": "code",
   "execution_count": null,
   "id": "e5ae7390",
   "metadata": {
    "pycharm": {
     "name": "#%%\n"
    }
   },
   "outputs": [],
   "source": [
    "# how many objects shall we collect slices for? (785510 are available in this test set)\n",
    "TARGET_COUNT = 100\n",
    "# optional parameter -- restrict the total number of PS1 source cells to test the \n",
    "# performance effects of denser sampling (1000 total PS1 cells are available in this test set).\n",
    "# note that the number of actual images accessed is a factor of both the number of cells\n",
    "# and the number of bands under consideration.\n",
    "MAX_CELL_COUNT = 20\n",
    "if MAX_CELL_COUNT is not None:\n",
    "    test_catalog = prune_ps1_catalog(\n",
    "        small_catalog, sample_table(arbitrary_test_cells, k=MAX_CELL_COUNT)\n",
    "    )\n",
    "else:\n",
    "    test_catalog = small_catalog\n",
    "targets = sample_table(test_catalog, k=TARGET_COUNT).to_pylist()\n",
    "ps1_stacks = set(map(get(['proj_cell', 'sky_cell']), targets))"
   ]
  },
  {
   "cell_type": "code",
   "execution_count": null,
   "id": "97fe8e90",
   "metadata": {},
   "outputs": [],
   "source": [
    "# per-loader performance-tuning parameters\n",
    "# image_chunksize: how many images shall we initialize at once?\n",
    "# image_threads: how many threads shall we init with in parallel? (None to disable.)\n",
    "# cut_threads: how many threads shall we cut with in parallel? (None to disable.)\n",
    "TUNING = {\n",
    "    \"fitsio\": {\n",
    "        \"image_chunksize\": 40, \"image_threads\": cpu_count() * 4, \"cut_threads\": cpu_count() * 4\n",
    "    },\n",
    "    \"greedy_fitsio\": {\n",
    "        \"image_chunksize\": 10, \"image_threads\": cpu_count() * 2, \"cut_threads\": None\n",
    "    },\n",
    "    \"default\": {\n",
    "        \"image_chunksize\": 20, \"image_threads\": cpu_count() * 4, \"cut_threads\": cpu_count() * 4\n",
    "    },\n",
    "}"
   ]
  },
  {
   "cell_type": "code",
   "execution_count": null,
   "id": "9e0c07a2",
   "metadata": {},
   "outputs": [],
   "source": [
    "logs = {}\n",
    "for loader_name, loader in LOADERS.items():\n",
    "    # remount bucket to avoid \"cheating\"\n",
    "    print(f\"----testing {loader_name}----\")\n",
    "    mount_bucket(\n",
    "        backend=\"goofys\", remount=True, mount_path=S3_ROOT, bucket=BUCKET\n",
    "    )\n",
    "    tuning_params = TUNING[loader_name] if loader_name in TUNING.keys() else TUNING[\"default\"]\n",
    "    cuts, logs[loader_name] = get_ps1_cutouts(\n",
    "        ps1_stacks, \n",
    "        loader, \n",
    "        targets, \n",
    "        CUTOUT_SIDE_LENGTH, \n",
    "        f\"{S3_ROOT}/ps1\", \n",
    "        PS1_BANDS,\n",
    "        verbose=2,\n",
    "        **tuning_params\n",
    "    )\n",
    "    cleanup_loader(loader_name)\n",
    "    rate, weight = parse_topline(logs[loader_name])\n",
    "    print(f\"{rate} cutouts/s, {weight} MB / cutout\")"
   ]
  },
  {
   "cell_type": "code",
   "execution_count": null,
   "id": "d8c9b0bc",
   "metadata": {},
   "outputs": [],
   "source": [
    "from s3_fuse.ps1_utils import ps1_stack_path, request_ps1_cutout\n",
    "REQUEST_THREADS = 4\n",
    "watch, netstat = Stopwatch(silent=True), Netstat()\n",
    "watch.start(), netstat.update()\n",
    "req_cutouts = {}\n",
    "request_pool = Pool(REQUEST_THREADS) if REQUEST_THREADS is not None else None\n",
    "\n",
    "for target in targets:\n",
    "    for band in PS1_BANDS:\n",
    "        args = (\n",
    "            ps1_stack_path(target['proj_cell'], target['sky_cell'], band),\n",
    "            target['ra'],\n",
    "            target['dec'],\n",
    "            CUTOUT_SIDE_LENGTH * 3600,\n",
    "            \"fits\"\n",
    "        )\n",
    "        if request_pool is None:\n",
    "            req_cutouts[target['obj_id']] = request_ps1_cutout(*args)\n",
    "        else:\n",
    "            req_cutouts[target['obj_id']] = request_pool.apply_async(\n",
    "                request_ps1_cutout, args\n",
    "            )\n",
    "if request_pool is not None:\n",
    "    req_cutouts = {\n",
    "        obj_id: result.get() for obj_id, result in req_cutouts.items()\n",
    "    }\n",
    "netstat.update()\n",
    "count, sec, vol = (\n",
    "    len(targets) * len(PS1_BANDS), watch.peek(), list(netstat.total.values())[-1] / 1024 ** 2\n",
    ")\n",
    "print(\n",
    "    f\"made {count} cutouts,{sec} total seconds,{round(vol, 2)} total MB,\\n\"\n",
    "    f\"{round(count / sec, 2)} cutouts / s,{round(vol / count, 2)} MB/cutout\"\n",
    ")"
   ]
  }
 ],
 "metadata": {
  "kernelspec": {
   "display_name": "Python 3 (ipykernel)",
   "language": "python",
   "name": "python3"
  },
  "language_info": {
   "codemirror_mode": {
    "name": "ipython",
    "version": 3
   },
   "file_extension": ".py",
   "mimetype": "text/x-python",
   "name": "python",
   "nbconvert_exporter": "python",
   "pygments_lexer": "ipython3",
   "version": "3.9.12"
  }
 },
 "nbformat": 4,
 "nbformat_minor": 5
}
