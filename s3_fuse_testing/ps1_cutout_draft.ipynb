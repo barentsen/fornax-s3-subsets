{
 "cells": [
  {
   "cell_type": "code",
   "execution_count": null,
   "id": "710f70e2",
   "metadata": {
    "pycharm": {
     "name": "#%%\n"
    }
   },
   "outputs": [],
   "source": [
    "from pathlib import Path\n",
    "import random\n",
    "import shutil\n",
    "import time\n",
    "\n",
    "from cytoolz import first\n",
    "from gPhoton.coadd import coadd_galex_rice_slices\n",
    "from gPhoton.reference import eclipse_to_paths\n",
    "from killscreen.monitors import Netstat, Stopwatch\n",
    "import pandas as pd\n",
    "import pyarrow as pa\n",
    "from pyarrow import pa_csv\n",
    "from pyarrow import parquet\n",
    "import sh\n",
    "\n",
    "from s3_fuse.ps1_utils import prune_ps1_catalog, get_ps1_cutouts"
   ]
  },
  {
   "cell_type": "code",
   "execution_count": null,
   "id": "86eed92e",
   "metadata": {
    "pycharm": {
     "name": "#%%\n"
    }
   },
   "outputs": [],
   "source": [
    "# 'configuration'\n",
    "\n",
    "BUCKET_NAME = 'nishapur'\n",
    "S3_ROOT = '/mnt/s3'\n",
    "\n",
    "# desired cutout side length in degrees\n",
    "CUTOUT_SIDE_LENGTH = 50 / 3600\n",
    "\n",
    "# how many (randomly-selected) targets would we like cutouts for? \n",
    "TARGET_COUNT = 10\n",
    "# which PS1 bands are we looking at? (currently only g and z are staged.)\n",
    "PS1_BANDS = (\"g\", \"z\")\n",
    "# which GALEX bands are we looking at? (currently only NUV is staged.)\n",
    "GALEX_BANDS = (\"NUV\",)\n",
    "\n",
    "try:\n",
    "    sh.umount(S3_ROOT)\n",
    "except sh.ErrorReturnCode:\n",
    "    pass\n",
    "finally:\n",
    "    sh.goofys(BUCKET_NAME, S3_ROOT)"
   ]
  },
  {
   "cell_type": "code",
   "execution_count": null,
   "id": "ec99697a",
   "metadata": {
    "pycharm": {
     "name": "#%%\n"
    }
   },
   "outputs": [],
   "source": [
    "catalog_fn = \"ps1_extragalactic_skycells_eclipses.parquet\"\n",
    "if not Path(catalog_fn).exists():\n",
    "    shutil.copy(\n",
    "        Path(S3_ROOT, \"ps1/metadata\", catalog_fn),\n",
    "        Path(catalog_fn)\n",
    "    )\n",
    "catalog = parquet.read_table(catalog_fn)"
   ]
  },
  {
   "cell_type": "code",
   "execution_count": null,
   "id": "baac190d",
   "metadata": {
    "pycharm": {
     "name": "#%%\n"
    }
   },
   "outputs": [],
   "source": [
    "test_cell_fn = \"ps1_extragalactic_skycells_eclipses_1k_cell_subset.csv\"\n",
    "arbitrary_test_cells = (\n",
    "    pa_csv\n",
    "    .read_csv(Path(S3_ROOT, \"ps1/metadata\", test_cell_fn))\n",
    "    .cast(pa.schema([(\"proj_cell\", pa.uint16()), (\"sky_cell\", pa.uint8())]))\n",
    ")\n",
    "# table of actually-existing mislike eclipse images, excluding those with \n",
    "# all-flagged data, bad distortion correction solutions, etc.\n",
    "extant_mislike = pd.read_csv(Path(S3_ROOT, \"extant_mislike_eclipses.csv\"))['0']\n",
    "small_catalog = prune_ps1_catalog(catalog, arbitrary_test_cells)\n"
   ]
  },
  {
   "cell_type": "code",
   "execution_count": null,
   "id": "6d7fb5e3",
   "metadata": {
    "scrolled": false,
    "pycharm": {
     "name": "#%%\n"
    }
   },
   "outputs": [],
   "source": [
    "TARGET_COUNT = 20\n",
    "targets = small_catalog.take(\n",
    "    random.sample(range(len(small_catalog)), k=TARGET_COUNT)\n",
    ").to_pylist()\n",
    "stat, watch = Netstat(), Stopwatch()\n",
    "for target in targets:\n",
    "    print(\n",
    "        f\"getting square cutouts with {round(CUTOUT_SIDE_LENGTH, 2)}-\"\n",
    "        f\"degree sides around PS1 object {target['obj_id']} \"\n",
    "        f\"with mean ra {round(target['ra'], 3)} and mean \"\n",
    "        f\"dec {round(target['dec'], 3)}\\n\"\n",
    "    )\n",
    "    galex_paths = [\n",
    "        # note that these test files do not have 'rice' in the name\n",
    "        eclipse_to_paths(eclipse, S3_ROOT, None, \"none\")\n",
    "        for eclipse in target['galex']\n",
    "        if eclipse in extant_mislike.values\n",
    "    ]\n",
    "    if len(galex_paths) == 0:\n",
    "        print(\"...all specified GALEX eclipses for this target are bad, skipping...\")\n",
    "    else:\n",
    "        coadd, wcs = coadd_galex_rice_slices(\n",
    "            image_paths = [paths['NUV']['image'] for paths in galex_paths],\n",
    "            ra = target['ra'],\n",
    "            dec = target['dec'],\n",
    "            side_length = CUTOUT_SIDE_LENGTH,\n",
    "            stat=stat,\n",
    "            watch=watch\n",
    "        )\n",
    "    print(\"\\n\")\n",
    "    ps1_cutouts, ps1_wcs = get_ps1_cutouts(\n",
    "        target, PS1_BANDS, CUTOUT_SIDE_LENGTH, S3_ROOT, stat, watch\n",
    "    )\n",
    "    print(\"\\n\")\n",
    "print(f\"{round(time.time() - watch.start_time, 2)} total seconds\")\n",
    "print(\n",
    "    f\"{round(first(stat.total.values()) / 1024 ** 2)} MB transferred\"\n",
    ")\n"
   ]
  }
 ],
 "metadata": {
  "kernelspec": {
   "display_name": "Python 3 (ipykernel)",
   "language": "python",
   "name": "python3"
  },
  "language_info": {
   "codemirror_mode": {
    "name": "ipython",
    "version": 3
   },
   "file_extension": ".py",
   "mimetype": "text/x-python",
   "name": "python",
   "nbconvert_exporter": "python",
   "pygments_lexer": "ipython3",
   "version": "3.9.12"
  }
 },
 "nbformat": 4,
 "nbformat_minor": 5
}