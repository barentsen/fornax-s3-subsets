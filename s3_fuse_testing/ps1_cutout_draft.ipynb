{
 "cells": [
  {
   "cell_type": "code",
   "execution_count": null,
   "id": "710f70e2",
   "metadata": {
    "pycharm": {
     "name": "#%%\n"
    }
   },
   "outputs": [],
   "source": [
    "from itertools import chain\n",
    "from pathlib import Path\n",
    "import random\n",
    "import shutil\n",
    "import time\n",
    "\n",
    "from collections import defaultdict\n",
    "from cytoolz import first, groupby\n",
    "from cytoolz.curried import get\n",
    "from gPhoton.coadd import get_galex_rice_slices, coadd_image_slices\n",
    "from gPhoton.reference import eclipse_to_paths\n",
    "from killscreen.monitors import Netstat, Stopwatch\n",
    "import pandas as pd\n",
    "import pyarrow as pa\n",
    "import pyarrow.csv\n",
    "from pyarrow import parquet\n",
    "import sh\n",
    "\n",
    "from s3_fuse.mount_s3 import conditional_unmount, mount_bucket\n",
    "from s3_fuse.ps1_utils import prune_ps1_catalog, get_ps1_cutouts\n",
    "from s3_fuse.utilz import print_stats"
   ]
  },
  {
   "cell_type": "code",
   "execution_count": null,
   "id": "86eed92e",
   "metadata": {
    "pycharm": {
     "name": "#%%\n"
    }
   },
   "outputs": [],
   "source": [
    "# 'configuration'\n",
    "\n",
    "BUCKET_NAME = 'nishapur'\n",
    "S3_ROOT = '/mnt/s3'\n",
    "\n",
    "# desired cutout side length in degrees\n",
    "CUTOUT_SIDE_LENGTH = 50 / 3600\n",
    "\n",
    "# how many (randomly-selected) targets would we like cutouts for? \n",
    "TARGET_COUNT = 10\n",
    "# which PS1 bands are we looking at? (currently only g and z are staged.)\n",
    "PS1_BANDS = (\"g\", \"z\")\n",
    "# shall we do GALEX stuff?\n",
    "DO_GALEX_STUFF = False\n",
    "\n",
    "mount_bucket(\n",
    "    backend=\"goofys\", remount=True, mount_path=S3_ROOT, bucket=BUCKET_NAME\n",
    ")"
   ]
  },
  {
   "cell_type": "code",
   "execution_count": null,
   "id": "ec99697a",
   "metadata": {
    "pycharm": {
     "name": "#%%\n"
    }
   },
   "outputs": [],
   "source": [
    "# catalog of PS1 extragalactic extended objects, including explicit \n",
    "# assignments to PS1 stack image projection / sky cells and GALEX \n",
    "# eclipse numbers\n",
    "catalog_fn = \"ps1_extragalactic_skycells_eclipses.parquet\"\n",
    "if not Path(catalog_fn).exists():\n",
    "    shutil.copy(\n",
    "        Path(S3_ROOT, \"ps1/metadata\", catalog_fn),\n",
    "        Path(catalog_fn)\n",
    "    )\n",
    "catalog = parquet.read_table(catalog_fn)"
   ]
  },
  {
   "cell_type": "code",
   "execution_count": null,
   "id": "baac190d",
   "metadata": {
    "pycharm": {
     "name": "#%%\n"
    }
   },
   "outputs": [],
   "source": [
    "# for this demo, we only staged a subset of those PS1 stack images \n",
    "# (all of them at all 5 bands would be > 80 TB). this is a list of \n",
    "# the (randomly selected) projection and sky cells we staged.\n",
    "test_cell_fn = \"ps1_extragalactic_skycells_eclipses_1k_cell_subset.csv\"\n",
    "arbitrary_test_cells = (\n",
    "    pa.csv\n",
    "    .read_csv(Path(S3_ROOT, \"ps1/metadata\", test_cell_fn))\n",
    "    .cast(pa.schema([(\"proj_cell\", pa.uint16()), (\"sky_cell\", pa.uint8())]))\n",
    ")\n",
    "small_catalog = prune_ps1_catalog(catalog, arbitrary_test_cells)\n",
    "\n",
    "# and a little pruning on GALEX: this is a table of actually-existing MIS-like \n",
    "# images by eclipse number, excluding eclipses with data currently flagged as bad\n",
    "extant_mislike = pd.read_csv(Path(S3_ROOT, \"extant_mislike_eclipses.csv\"))['0']"
   ]
  },
  {
   "cell_type": "code",
   "execution_count": null,
   "id": "90d0b988",
   "metadata": {},
   "outputs": [],
   "source": [
    "def sample_table(table, k=None):\n",
    "    if k is None:\n",
    "        return table\n",
    "    return table.take(random.sample(range(len(table)), k=k))"
   ]
  },
  {
   "cell_type": "code",
   "execution_count": null,
   "id": "e5ae7390",
   "metadata": {},
   "outputs": [],
   "source": [
    "# how many objects shall we collect slices for? (785510 are available in this test set)\n",
    "TARGET_COUNT = 40\n",
    "# optional parameter -- restrict the total number of PS1 source cells to test the \n",
    "# performance effects of denser sampling (1000 total PS1 cells are available in this test set).\n",
    "# note that the number of actual images accessed is a factor of both the number of cells\n",
    "# and the number of bands under consideration.\n",
    "# if GALEX fusion is taking place, this will also indirectly\n",
    "# restrict the number of GALEX images.\n",
    "\n",
    "MAX_CELL_COUNT = 5\n",
    "if MAX_CELL_COUNT is not None:\n",
    "    test_catalog = prune_ps1_catalog(\n",
    "        small_catalog, sample_table(arbitrary_test_cells, k=MAX_CELL_COUNT)\n",
    "    )\n",
    "else:\n",
    "    test_catalog = small_catalog\n",
    "targets = sample_table(test_catalog, k=TARGET_COUNT).to_pylist()\n",
    "ps1_stacks = set((map(get(['proj_cell', 'sky_cell']), targets)))"
   ]
  },
  {
   "cell_type": "code",
   "execution_count": null,
   "id": "3bfa7b25",
   "metadata": {
    "scrolled": false
   },
   "outputs": [],
   "source": [
    "watch, stat = Stopwatch(silent=True), Netstat()\n",
    "ps1_groups = groupby(get(['proj_cell', 'sky_cell']), targets)\n",
    "ps1_cutouts = {}\n",
    "for stack in ps1_stacks:\n",
    "    image_targets = ps1_groups[stack]\n",
    "    cutouts, _ = get_ps1_cutouts(\n",
    "        image_targets, \n",
    "        PS1_BANDS, \n",
    "        CUTOUT_SIDE_LENGTH, \n",
    "        S3_ROOT, \n",
    "        stat, \n",
    "        watch,\n",
    "        verbose=1\n",
    "    )\n",
    "    ps1_cutouts |= cutouts\n",
    "\n",
    "if DO_GALEX_STUFF is True:\n",
    "    galex_eclipses = {\n",
    "        e for e in tuple(chain.from_iterable(map(get('galex'), targets)))\n",
    "        if e in extant_mislike.values\n",
    "    }\n",
    "    galex_slices = defaultdict(list)\n",
    "    systems = {}\n",
    "    for eclipse in galex_eclipses:\n",
    "        eclipse_targets = tuple(filter(lambda t: eclipse in t['galex'], targets))\n",
    "        slices, system = get_galex_rice_slices(\n",
    "            eclipse, eclipse_targets, CUTOUT_SIDE_LENGTH, S3_ROOT, watch, stat\n",
    "        )\n",
    "        systems[eclipse] = system\n",
    "        for k, v in slices.items():\n",
    "            galex_slices[k].append(v)\n",
    "\n",
    "    galex_coadds = {}\n",
    "    print(\n",
    "        f\"...coadding {len(tuple(chain.from_iterable(galex_slices.values())))} image slices...\", \n",
    "        end=\"\"\n",
    "    )\n",
    "    for obj_id, images in galex_slices.items():\n",
    "        if len(images) == 0:\n",
    "            print(\"all GALEX images for {obj_id} are bad, skipping\")\n",
    "        galex_coadds[obj_id] = coadd_image_slices(images, systems)\n",
    "    print_stats(watch, stat)\n"
   ]
  }
 ],
 "metadata": {
  "kernelspec": {
   "display_name": "Python 3 (ipykernel)",
   "language": "python",
   "name": "python3"
  },
  "language_info": {
   "codemirror_mode": {
    "name": "ipython",
    "version": 3
   },
   "file_extension": ".py",
   "mimetype": "text/x-python",
   "name": "python",
   "nbconvert_exporter": "python",
   "pygments_lexer": "ipython3",
   "version": "3.9.12"
  }
 },
 "nbformat": 4,
 "nbformat_minor": 5
}
