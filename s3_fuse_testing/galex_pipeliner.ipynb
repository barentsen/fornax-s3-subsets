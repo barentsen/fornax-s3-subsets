{
 "cells": [
  {
   "cell_type": "code",
   "execution_count": null,
   "id": "acbbece2",
   "metadata": {
    "pycharm": {
     "name": "#%%\n"
    }
   },
   "outputs": [],
   "source": [
    "\"\"\"\n",
    "execute the gPhoton pipeline from a Notebook.\n",
    "(gPhoton not included).\n",
    "\n",
    "while not the recommended method, you might find it \n",
    "convenient for generating test data.\n",
    "\"\"\"\n",
    "\n",
    "import os\n",
    "from pathlib import Path\n",
    "import random\n",
    "\n",
    "from killscreen.subutils import console_stream_handlers\n",
    "import sh\n",
    "\n",
    "from s3_fuse.galex_utils import pick_galex_eclipses\n",
    "\n",
    "OUT, ERR = [], []\n",
    "OUT_HANDLER, ERR_HANDLER = console_stream_handlers(OUT, ERR)\n",
    "\n",
    "def execute_gphoton_pipeline(**pipeline_kwargs):\n",
    "    return sh.python(\n",
    "        Path(os.getcwd(), \"gphoton_pipeline.py\"),\n",
    "            **pipeline_kwargs,\n",
    "            _bg=True,\n",
    "            _bg_exc=False,\n",
    "            _out=OUT_HANDLER,\n",
    "            _err=ERR_HANDLER,\n",
    "        )\n"
   ]
  },
  {
   "cell_type": "code",
   "execution_count": null,
   "id": "fbc69b52",
   "metadata": {
    "pycharm": {
     "name": "#%%\n"
    }
   },
   "outputs": [],
   "source": [
    "LOCAL_ROOT, S3_ROOT = '/home/ubuntu/storage', '/home/ubuntu/s3'\n",
    "\n",
    "default_settings = {\n",
    "    \"threads\": 4, \n",
    "    \"recreate\": False, \n",
    "    \"local_root\": \"/home/ubuntu/storage/\",\n",
    "}\n",
    "run_settings = {\n",
    "    \"eclipse\": None, \n",
    "    \"band\": \"NUV\", \n",
    "    \"depth\": 30,\n",
    "    \"write\": {\"image\": True, \"movie\": False}\n",
    "}"
   ]
  },
  {
   "cell_type": "code",
   "execution_count": null,
   "id": "17a5e970",
   "metadata": {
    "scrolled": false,
    "pycharm": {
     "name": "#%%\n"
    }
   },
   "outputs": [],
   "source": [
    "# this runs against raw6 (L0 GALEX telemetry) files. if you don't have them\n",
    "# locally -- and why would you? -- it will download them from MAST.\n",
    "# performance of this pipeline may vary wildly depending on your system\n",
    "# settings.\n",
    "\n",
    "picks = random.sample(pick_galex_eclipses, k=10)\n",
    "for eclipse in picks:\n",
    "    pipe_kwargs = default_settings | run_settings | {\"eclipse\": eclipse}\n",
    "    process = execute_gphoton_pipeline(**pipe_kwargs)\n",
    "    process.wait()"
   ]
  }
 ],
 "metadata": {
  "kernelspec": {
   "display_name": "Python 3 (ipykernel)",
   "language": "python",
   "name": "python3"
  },
  "language_info": {
   "codemirror_mode": {
    "name": "ipython",
    "version": 3
   },
   "file_extension": ".py",
   "mimetype": "text/x-python",
   "name": "python",
   "nbconvert_exporter": "python",
   "pygments_lexer": "ipython3",
   "version": "3.9.10"
  }
 },
 "nbformat": 4,
 "nbformat_minor": 5
}