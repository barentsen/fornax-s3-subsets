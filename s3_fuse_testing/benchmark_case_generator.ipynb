{
 "cells": [
  {
   "cell_type": "code",
   "execution_count": null,
   "outputs": [],
   "source": [
    "\"\"\"\n",
    "generate random fits files satisfying certain criteria and\n",
    "upload them to an s3 bucket\n",
    "\"\"\"\n",
    "from multiprocessing import Pool\n",
    "\n",
    "from s3_fuse.boto_utils import bind_s3_bucket\n",
    "from s3_fuse.random_generators import fits_file\n",
    "from s3_fuse.bench_config import CASES, SHAPES, GENERATORS\n",
    "\n",
    "BUCKET = \"bucket_sadly_bare_of_fits_files\""
   ],
   "metadata": {
    "collapsed": false,
    "pycharm": {
     "name": "#%%\n"
    }
   }
  },
  {
   "cell_type": "code",
   "execution_count": null,
   "outputs": [],
   "source": [
    "# mock data generating & uploading function\n",
    "def generate_and_upload(case, prefix, quantity):\n",
    "    shape, generator, dtype, hdu_count, compression_type = case\n",
    "    upload, _ = bind_s3_bucket(BUCKET)\n",
    "    for ix in range(quantity):\n",
    "        print(case, ix)\n",
    "        fits_blob = fits_file(\n",
    "            size=SHAPES[shape],\n",
    "            dtype=dtype,\n",
    "            element_generator=GENERATORS[generator],\n",
    "            base_hdu_count=hdu_count,\n",
    "            compression_type=compression_type,\n",
    "            return_bytes=True\n",
    "        )\n",
    "        upload(fits_blob, f\"{prefix}/{prefix}_{ix}.fits\")"
   ],
   "metadata": {
    "collapsed": false,
    "pycharm": {
     "name": "#%%\n"
    }
   }
  },
  {
   "cell_type": "code",
   "execution_count": null,
   "outputs": [],
   "source": [
    "# TODO: add ls-type functionality to check existing file counts\n",
    "quantity = 10\n",
    "pool = Pool(5)\n",
    "results = {}\n",
    "\n",
    "# asynchronously map our gen-and-upload function across cases defined in s3_fuse.bench_config\n",
    "for prefix, case in CASES.items():\n",
    "    results[prefix] = pool.apply_async(\n",
    "        generate_and_upload, (case, prefix, quantity)\n",
    "    )\n",
    "pool.close()\n",
    "pool.join()"
   ],
   "metadata": {
    "collapsed": false,
    "pycharm": {
     "name": "#%%\n"
    }
   }
  }
 ],
 "metadata": {
  "kernelspec": {
   "display_name": "Python 3",
   "language": "python",
   "name": "python3"
  },
  "language_info": {
   "codemirror_mode": {
    "name": "ipython",
    "version": 2
   },
   "file_extension": ".py",
   "mimetype": "text/x-python",
   "name": "python",
   "nbconvert_exporter": "python",
   "pygments_lexer": "ipython2",
   "version": "2.7.6"
  }
 },
 "nbformat": 4,
 "nbformat_minor": 0
}