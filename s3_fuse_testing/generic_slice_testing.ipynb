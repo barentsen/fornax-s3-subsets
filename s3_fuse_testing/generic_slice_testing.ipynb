{
 "cells": [
  {
   "cell_type": "code",
   "execution_count": 1,
   "id": "8f651281",
   "metadata": {
    "pycharm": {
     "name": "#%%\n"
    }
   },
   "outputs": [],
   "source": [
    "\"\"\"generic s3-via-FUSE FITS subsetting test and benchmarking notebook\"\"\"\n",
    "\n",
    "import os\n",
    "from functools import partial\n",
    "from typing import Callable\n",
    "\n",
    "from s3_fuse.handlers import get_cuts_from_files\n",
    "from s3_fuse.log_goofys import assemble_cut_log\n",
    "from s3_fuse.utilz import preload_target"
   ]
  },
  {
   "cell_type": "markdown",
   "id": "45c9e01a",
   "metadata": {
    "pycharm": {
     "name": "#%% md\n"
    }
   },
   "source": [
    "### settings"
   ]
  },
  {
   "cell_type": "code",
   "execution_count": null,
   "id": "b06bfc30",
   "metadata": {
    "pycharm": {
     "name": "#%%\n"
    }
   },
   "outputs": [],
   "source": [
    "# what objects will we be looking at, relative to s3 bucket root\n",
    "OBJECT_KEYS = (\"/path/to/object\", \"/path/to/other/object\")\n",
    "\n",
    "# which hdu should we look at in these objects?\n",
    "HDU_IX = 0\n",
    "\n",
    "# how many and what kind of slices should we cut out of these files?\n",
    "CUT_SETTINGS = {\"cut_count\": 1, \"box_size\": 100, \"size_variance\": 25}\n",
    "\n",
    "GENERAL_SETTINGS = {\n",
    "    # do we actually want the array elements?\n",
    "    \"return_cuts\": True,\n",
    "    \"cut_settings\": CUT_SETTINGS,\n",
    "    # shared random seed for strict repeatability\n",
    "    \"seed\": 11111,\n",
    "    # make 'shallow' cuts from 3D arrays? if False, make 3D cuts across\n",
    "    # all bands; if True, randomly select a single band for each cut\n",
    "    \"shallow\": True,\n",
    "}\n",
    "\n",
    "# what directory on the local filesystem shall we use as a mountpoint?\n",
    "# (or where is the bucket mounted already if we're not remounting?)\n",
    "S3_ROOT = \"/mnt/s3\"\n",
    "# where will we write goofys log output? not important if we're not doing that.\n",
    "FUSE_LOGFILE = \"fuse.log\"\n",
    "# what is the name of our s3 bucket?\n",
    "BUCKET = \"great_bucket_full_of_fits_files\"\n",
    "\n",
    "S3_SETTINGS = {\n",
    "    \"mount_path\": S3_ROOT,\n",
    "    \"bucket\": BUCKET,\n",
    "    # remount the bucket on each cycle? (not doing so is cheating because of\n",
    "    # inode linking, etc.)\n",
    "    \"remount\": True,\n",
    "    # whatever FUSE backend you're using needs to be installed on the system.\n",
    "    # has only been prototyped with s3fs and goofys, but others are likely\n",
    "    # to work. this is not important if you set remount to False and have\n",
    "    # already mounted the bucket.\n",
    "    \"backend\": \"goofys\",\n",
    "    # only matters with goofys: run goofys in debug mode and scratch its\n",
    "    # output to a log file.\n",
    "    \"verbose\": True,\n",
    "    # goofys writes its debug-mode output to stderr.\n",
    "    # set both of these handlers to None if you'd like to\n",
    "    # deactivate logging. this will break on verbose goofys output,\n",
    "    # however, because the test routine won't know to\n",
    "    # wait for goofys to mount the bucket.\n",
    "    # note that adding a stream handler to the goofys introduces a\n",
    "    # little overhead even if it's not writing anything, and\n",
    "    # that goofys may be noticeably slower when actually writing\n",
    "    # debug logs (it's very verbose)\n",
    "    \"stream_handlers\": {\"_out\": None, \"_err\": FUSE_LOGFILE},\n",
    "}\n",
    "\n",
    "# note: this function is a setting\n",
    "def make_loaders(*loader_names: str) -> dict[str, Callable]:\n",
    "    \"\"\"\n",
    "    produce a mapping from FITS-loader names to callable load methods.\n",
    "    currently only three are defined.\n",
    "    \"\"\"\n",
    "    loaders = {}\n",
    "    for name in loader_names:\n",
    "        if name == \"astropy\":\n",
    "            import astropy.io.fits\n",
    "            loaders[name] = astropy.io.fits.open\n",
    "        elif name == \"fitsio\":\n",
    "            import fitsio\n",
    "            loaders[name] = fitsio.FITS\n",
    "        # \"greedy\" version of astropy.io.fits.open, which fully loads a file\n",
    "        # into memory before doing anything with it. a useful bench reference.\n",
    "        # note that fitsio.FITS will not accept filelike objects and cannot be\n",
    "        # wrapped in this way without modifying its C extensions.\n",
    "        elif name == \"greedy_astropy\":\n",
    "            import astropy.io.fits\n",
    "            loaders[name] = partial(preload_target, astropy.io.fits.open)\n",
    "    return loaders\n",
    "\n",
    "# select loaders as defined by the previous function\n",
    "LOADERS = make_loaders(\"astropy\", \"greedy_astropy\", \"fitsio\")"
   ]
  },
  {
   "cell_type": "markdown",
   "id": "d5c29a95",
   "metadata": {
    "pycharm": {
     "name": "#%% md\n"
    }
   },
   "source": [
    "### define the benchmark"
   ]
  },
  {
   "cell_type": "code",
   "execution_count": 1,
   "id": "0d8cc094",
   "metadata": {
    "pycharm": {
     "name": "#%%\n"
    }
   },
   "outputs": [],
   "source": [
    "def run_benchmark():\n",
    "    results = {}\n",
    "    for loader_name in LOADERS.keys():\n",
    "        print(f\"\\n****checking {loader_name}****\")\n",
    "        case_kwargs = GENERAL_SETTINGS | {\n",
    "            \"paths\": OBJECT_KEYS,\n",
    "            \"loader\": LOADERS[loader_name],\n",
    "            \"cut_settings\": CUT_SETTINGS,\n",
    "            \"s3_settings\": S3_SETTINGS,\n",
    "            \"hdu_ix\": HDU_IX\n",
    "        }\n",
    "        cuts, runtime, handler_log = get_cuts_from_files(**case_kwargs)\n",
    "        # TODO: sloppy\n",
    "        if S3_SETTINGS[\"stream_handlers\"][\"_err\"] is not None:\n",
    "            with open(FUSE_LOGFILE) as logstream:\n",
    "                fuse_log = logstream.read()\n",
    "            os.remove(FUSE_LOGFILE)\n",
    "        else:\n",
    "            fuse_log = None\n",
    "        results[loader_name] = cuts, runtime, None, handler_log, fuse_log\n",
    "    logs = {\n",
    "        case_name: assemble_cut_log(result)\n",
    "        for case_name, result in results.items()\n",
    "    }\n",
    "    return results, logs"
   ]
  },
  {
   "cell_type": "markdown",
   "id": "5e2b429e",
   "metadata": {
    "pycharm": {
     "name": "#%% md\n"
    }
   },
   "source": [
    "### run the benchmark"
   ]
  },
  {
   "cell_type": "code",
   "execution_count": null,
   "id": "6cc4ef87",
   "metadata": {
    "pycharm": {
     "name": "#%%\n"
    }
   },
   "outputs": [],
   "source": [
    "results, logs = run_benchmark()"
   ]
  },
  {
   "cell_type": "markdown",
   "id": "56fdfd52",
   "metadata": {
    "pycharm": {
     "name": "#%% md\n"
    }
   },
   "source": [
    "### look at logs, returned data, etc."
   ]
  },
  {
   "cell_type": "code",
   "execution_count": null,
   "id": "d58eb262",
   "metadata": {
    "pycharm": {
     "name": "#%%\n"
    }
   },
   "outputs": [],
   "source": [
    "cuts, runtime, handler_log, fuse_log = results['astropy']\n",
    "runtime"
   ]
  },
  {
   "cell_type": "code",
   "execution_count": null,
   "id": "b9809a65",
   "metadata": {
    "pycharm": {
     "name": "#%%\n"
    }
   },
   "outputs": [],
   "source": [
    "# this log contains timestamped records of all 'handler' operations\n",
    "# like mounting the bucket, initializing a FITS object, etc.\n",
    "# if goofys was in debug/verbose mode, it will also contain\n",
    "# all S3 requests and aliased-throuugh-FUSE http stream reads.\n",
    "import pandas as pd\n",
    "\n",
    "log_df = pd.DataFrame(\n",
    "    logs[\"astropy\"]\n",
    ").sort_values(by=\"time\").reset_index(drop=True)\n",
    "log_df"
   ]
  }
 ],
 "metadata": {
  "kernelspec": {
   "display_name": "Python 3 (ipykernel)",
   "language": "python",
   "name": "python3"
  },
  "language_info": {
   "codemirror_mode": {
    "name": "ipython",
    "version": 3
   },
   "file_extension": ".py",
   "mimetype": "text/x-python",
   "name": "python",
   "nbconvert_exporter": "python",
   "pygments_lexer": "ipython3",
   "version": "3.9.12"
  }
 },
 "nbformat": 4,
 "nbformat_minor": 5
}