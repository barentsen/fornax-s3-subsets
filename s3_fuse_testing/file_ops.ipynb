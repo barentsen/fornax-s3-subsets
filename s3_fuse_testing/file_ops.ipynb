{
 "cells": [
  {
   "cell_type": "code",
   "execution_count": null,
   "id": "e48c277b",
   "metadata": {
    "pycharm": {
     "name": "#%%\n"
    }
   },
   "outputs": [],
   "source": [
    "\"\"\"\n",
    "galex file format manipulation pseudo-utilities.\n",
    "not intended for anything but ad hoc generation of \n",
    "benchmark material. use with caution. perhaps don't.\n",
    "\"\"\"\n",
    "from fs.osfs import OSFS\n",
    "import sh\n",
    "\n",
    "from fuse_testing.fits import make_tiled_galex_object\n",
    "from fuse_testing.galex_utils import get_galex_version_path"
   ]
  },
  {
   "cell_type": "code",
   "execution_count": null,
   "id": "398427c0",
   "metadata": {
    "pycharm": {
     "name": "#%%\n"
    }
   },
   "outputs": [],
   "source": [
    "# irresponsibly decompress everything\n",
    "here = OSFS(LOCAL_ROOT)\n",
    "for file in here.walk.files(filter=[\"*.gz\"]):\n",
    "    if here.exists(file.replace(\".gz\", \"\")):\n",
    "        continue\n",
    "    # maybe don't decompress movies unless you're really sure\n",
    "    # you would like to fill your entire local drive\n",
    "    # with 0s\n",
    "    if \"-30\" in file:\n",
    "        continue\n",
    "    if \"raw6\" in file:\n",
    "        continue\n",
    "    # or whatever un-gzipper you'd like\n",
    "    sh.igzip(here.getsyspath(file), \"-d\")"
   ]
  },
  {
   "cell_type": "code",
   "execution_count": null,
   "id": "8b22a70c",
   "metadata": {
    "pycharm": {
     "name": "#%%\n"
    }
   },
   "outputs": [],
   "source": [
    "dirs = [\n",
    "    directory for directory in os.listdir(LOCAL_ROOT) \n",
    "    if directory != \"temp\"\n",
    "]\n",
    "extant_eclipses = set([\n",
    "    int(directory[1:]) for directory in dirs\n",
    "    if Path(get_version_path(int(directory[1:]), \"NUV\", 30, \"movie\", \"gz\")).exists()\n",
    "])"
   ]
  },
  {
   "cell_type": "code",
   "execution_count": null,
   "id": "d4e1cc43",
   "metadata": {
    "pycharm": {
     "name": "#%%\n"
    }
   },
   "outputs": [],
   "source": [
    "for eclipse in extant_eclipses:\n",
    "    make_tiled_galex_object(\n",
    "        eclipse, \n",
    "        \"NUV\", \n",
    "        30, \n",
    "        obj=\"movie\", \n",
    "        # set to a 3-tuple for movies, a 2-tuple for images\n",
    "        tile_size=(1, 100, 100),\n",
    "        data_path=LOCAL_ROOT, \n",
    "        return_obj=False\n",
    "    )"
   ]
  },
  {
   "cell_type": "code",
   "execution_count": null,
   "id": "35ed8b43",
   "metadata": {
    "scrolled": false,
    "pycharm": {
     "name": "#%%\n"
    }
   },
   "outputs": [],
   "source": [
    "# sync local to s3 (not photonlists)\n",
    "\n",
    "here, there = tuple(map(OSFS, (LOCAL_ROOT, S3_ROOT)))\n",
    "missing = filter(lambda f: not there.exists(f), here.walk.files())\n",
    "not_parquet = filter(lambda f: not f.endswith(\"parquet\"), missing)\n",
    "for file in not_parquet:\n",
    "    there.makedir(str(Path(file).parent), recreate=True)\n",
    "    fs.copy.copy_file(here, file, there, file)"
   ]
  }
 ],
 "metadata": {
  "kernelspec": {
   "display_name": "Python 3 (ipykernel)",
   "language": "python",
   "name": "python3"
  },
  "language_info": {
   "codemirror_mode": {
    "name": "ipython",
    "version": 3
   },
   "file_extension": ".py",
   "mimetype": "text/x-python",
   "name": "python",
   "nbconvert_exporter": "python",
   "pygments_lexer": "ipython3",
   "version": "3.9.10"
  }
 },
 "nbformat": 4,
 "nbformat_minor": 5
}