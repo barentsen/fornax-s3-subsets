{
 "cells": [
  {
   "cell_type": "code",
   "execution_count": null,
   "id": "fbef3cc1",
   "metadata": {
    "pycharm": {
     "name": "#%%\n"
    }
   },
   "outputs": [],
   "source": [
    "\"\"\"stub notebook for examining benchmark results\"\"\"\n",
    "import numpy as np\n",
    "\n",
    "from s3_fuse.bench_utils import load_benchmark_results"
   ]
  },
  {
   "cell_type": "code",
   "execution_count": null,
   "id": "3a33c990",
   "metadata": {
    "pycharm": {
     "name": "#%%\n"
    }
   },
   "outputs": [],
   "source": [
    "RESULT_DIRECTORY = \"bench_results\"\n",
    "SUMMARIZERS = (np.sum, np.mean, np.std, np.size)"
   ]
  },
  {
   "cell_type": "code",
   "execution_count": null,
   "id": "c4ea95b0",
   "metadata": {
    "pycharm": {
     "name": "#%%\n"
    }
   },
   "outputs": [],
   "source": [
    "full_results, summary = load_benchmark_results(RESULT_DIRECTORY, SUMMARIZERS)"
   ]
  }
 ],
 "metadata": {
  "kernelspec": {
   "display_name": "Python 3 (ipykernel)",
   "language": "python",
   "name": "python3"
  },
  "language_info": {
   "codemirror_mode": {
    "name": "ipython",
    "version": 3
   },
   "file_extension": ".py",
   "mimetype": "text/x-python",
   "name": "python",
   "nbconvert_exporter": "python",
   "pygments_lexer": "ipython3",
   "version": "3.9.13"
  }
 },
 "nbformat": 4,
 "nbformat_minor": 5
}