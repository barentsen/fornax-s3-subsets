{
 "cells": [
  {
   "cell_type": "code",
   "execution_count": null,
   "id": "710f70e2",
   "metadata": {
    "pycharm": {
     "name": "#%%\n"
    }
   },
   "outputs": [],
   "source": [
    "\"\"\"working notebook for generating fused ps1/galex images\"\"\"\n",
    "import os\n",
    "import shutil\n",
    "from multiprocessing import cpu_count\n",
    "from pathlib import Path\n",
    "import warnings\n",
    "\n",
    "import fitsio\n",
    "import matplotlib.pyplot as plt\n",
    "import pandas as pd\n",
    "from pyarrow import parquet\n",
    "\n",
    "# hacky; can remove if we decide to add an install script or put this in the repo root\n",
    "os.chdir(globals()['_dh'][0].parent)\n",
    "\n",
    "from subset.science.handlers import (\n",
    "    filter_ps1_catalog, sample_ps1_catalog, get_corresponding_images,\n",
    "    coadd_galex_cutouts, bulk_skycut, extract_cutout_photometry,\n",
    "    cutouts_to_channels, ps_galex_stack\n",
    ")\n",
    "from subset.science.galex_utils import GALEX_CUT_CONSTANTS\n",
    "from subset.science.ps1_utils import ps1_stack2flux, PS1_CUT_CONSTANTS\n",
    "from subset.utilz.mount_s3 import mount_bucket\n",
    "\n",
    "# suppress irrelevant warnings from numpy and matplotlib\n",
    "warnings.filterwarnings(\"ignore\", message=\"invalid value\")\n",
    "warnings.filterwarnings(\"ignore\", message=\"More than 20 figures\")\n",
    "%matplotlib notebook"
   ]
  },
  {
   "cell_type": "markdown",
   "source": [
    "## configuration"
   ],
   "metadata": {
    "collapsed": false,
    "pycharm": {
     "name": "#%% md\n"
    }
   }
  },
  {
   "cell_type": "code",
   "execution_count": null,
   "id": "86eed92e",
   "metadata": {
    "pycharm": {
     "name": "#%%\n"
    }
   },
   "outputs": [],
   "source": [
    "# what bucket are our images and metadata files stored in?\n",
    "BUCKET = 'nishapur'\n",
    "# where, on the local filesystem, shall we create a FUSE mount for that bucket?\n",
    "S3_ROOT = '/mnt/s3'\n",
    "# mount that bucket to read metadata\n",
    "mount_bucket(remount=False, mount_path=S3_ROOT, bucket=BUCKET)\n",
    "# catalog of all mean objects from 1000 PS1 sky cells randomly selected from\n",
    "# \"extragalactic\" cells that overlap the viewports of GALEX visits, then filtered\n",
    "# to the \"best\" objects (qualityFlag bit 0b100000) with valid photometry in both\n",
    "# g and z bands (this filter leaves roughly 3% of total sources). other\n",
    "# similarly-formatted catalog files can be used.\n",
    "CATALOG_FN = \"ps1_eg_eclipses_subset_best_gz_coregistered.parquet\"\n",
    "if not Path(CATALOG_FN).exists():\n",
    "    shutil.copy(Path(S3_ROOT, \"ps1/metadata\", CATALOG_FN), Path(CATALOG_FN))\n",
    "catalog = parquet.read_table(CATALOG_FN).to_pandas()\n",
    "# simply a list of GALEX eclipses for which we have readymade full-depth images\n",
    "extant_eclipses = pd.read_csv(Path(S3_ROOT, \"extant_mislike_eclipses.csv\"))['0']\n",
    "# performance-tuning parameters: how many images may we simultaneously initialize at once;\n",
    "# how many threads shall we use to initialize images and to retrieve cuts from images?\n",
    "TUNING_PARAMS = {\"image_chunksize\": 40, 'threads': {\"image\": cpu_count() * 6, \"cut\": cpu_count() * 6}}\n",
    "# cutouts in dimensions: ra, dec in degrees. treated as side lengths of a rectangle.\n",
    "CUT_SHAPE = (60 / 3600, 60 / 3600)\n",
    "# aperture radius, in arcseconds, for photometry.\n",
    "APERTURE_RADIUS = 12.8\n",
    "# restrict to sources bright in both g and z? set to 'None' for no cutoff.\n",
    "MAG_CUTOFF = 20\n",
    "# restrict to only sources flagged as extended / not extended?\n",
    "# \"extended\", \"point\", or None for no restriction\n",
    "EXTENSION_TYPE = None\n",
    "# restrict to only sources with a valid stack detection? (probably a good idea)\n",
    "STACK_ONLY = True\n",
    "# how many targets shall we randomly select?\n",
    "TARGET_COUNT = 30\n",
    "# should we restrict how many PS1 cells we will select them from?\n",
    "# (this will also indirectly restrict the number of GALEX images).\n",
    "MAX_CELL_COUNT = 8"
   ]
  },
  {
   "cell_type": "markdown",
   "source": [
    "## target selection\n",
    "the next cell picks a random sample of targets that satisfy the parameters defined above.\n",
    "you can run it again to 'reroll' and pick a new set of targets."
   ],
   "metadata": {
    "collapsed": false,
    "pycharm": {
     "name": "#%% md\n"
    }
   }
  },
  {
   "cell_type": "code",
   "execution_count": null,
   "id": "f32f05d2",
   "metadata": {
    "pycharm": {
     "name": "#%%\n"
    }
   },
   "outputs": [],
   "source": [
    "# all sources that fit characteristic criteria\n",
    "candidate_sources = filter_ps1_catalog(catalog, MAG_CUTOFF, EXTENSION_TYPE, STACK_ONLY)\n",
    "# randomly-selected subset of those sources w/adequate metadata for cutout definition\n",
    "targets = sample_ps1_catalog(candidate_sources, TARGET_COUNT, MAX_CELL_COUNT)\n",
    "# add requested cut shape instructions to these target definitions\n",
    "targets = [t | {'ra_x': CUT_SHAPE[0], 'dec_x': CUT_SHAPE[1]} for t in targets]\n",
    "# make lists of the ps1 stack images and galex eclipses those sources lie within,\n",
    "# (so that we can easily initialize each relevant image only once)\n",
    "ps1_stacks, galex_eclipses = get_corresponding_images(targets, extant_eclipses)"
   ]
  },
  {
   "cell_type": "markdown",
   "source": [
    "## cutout retrieval"
   ],
   "metadata": {
    "collapsed": false,
    "pycharm": {
     "name": "#%% md\n"
    }
   }
  },
  {
   "cell_type": "code",
   "execution_count": null,
   "id": "8692e701",
   "metadata": {
    "pycharm": {
     "is_executing": true,
     "name": "#%%\n"
    },
    "scrolled": false
   },
   "outputs": [],
   "source": [
    "shared_parameters = {\n",
    "    'loader': fitsio.FITS, 'return_cuts': True, 'targets': targets, **TUNING_PARAMS\n",
    "}\n",
    "# grab PS1 cutouts\n",
    "ps1_cutouts, _ = bulk_skycut(\n",
    "    ps1_stacks, \n",
    "    bands=(\"g\", \"z\"),\n",
    "    data_root=f\"{S3_ROOT}/ps1\",\n",
    "    **PS1_CUT_CONSTANTS,\n",
    "    **shared_parameters\n",
    ")\n",
    "# grab GALEX cutouts\n",
    "galex_cutouts, _ = bulk_skycut(\n",
    "    galex_eclipses, \n",
    "    bands=(\"NUV\",), \n",
    "    data_root=f\"{S3_ROOT}\",\n",
    "    **GALEX_CUT_CONSTANTS,\n",
    "    **shared_parameters\n",
    ")\n",
    "# flatten ps1 cutout data structure & convert stack data units to physical flux units\n",
    "for cut in ps1_cutouts:\n",
    "    cut['array'] = cut.pop('arrays')[0]\n",
    "    cut['array'] = ps1_stack2flux(cut['array'], cut['header'])\n",
    "# coadd GALEX cutouts (when relevant) and convert to weighted counts per second\n",
    "# (PS1 stacks _are_ coadds, so we don't need to coadd them)\n",
    "coadds = coadd_galex_cutouts(galex_cutouts, scale='weighted')\n",
    "cutouts = ps1_cutouts + coadds"
   ]
  },
  {
   "cell_type": "markdown",
   "source": [
    "## photometry"
   ],
   "metadata": {
    "collapsed": false,
    "pycharm": {
     "name": "#%% md\n"
    }
   }
  },
  {
   "cell_type": "code",
   "execution_count": null,
   "outputs": [],
   "source": [
    "# compute multispectral aperture photometry on cutouts\n",
    "results = extract_cutout_photometry(cutouts, APERTURE_RADIUS)\n",
    "results.sort_values(by='NUV_mag', ascending=True).iloc[0:20]"
   ],
   "metadata": {
    "collapsed": false,
    "pycharm": {
     "name": "#%%\n"
    }
   }
  },
  {
   "cell_type": "markdown",
   "source": [
    "## visualization"
   ],
   "metadata": {
    "collapsed": false,
    "pycharm": {
     "name": "#%% md\n"
    }
   }
  },
  {
   "cell_type": "code",
   "execution_count": null,
   "id": "41e33160",
   "metadata": {
    "scrolled": false,
    "pycharm": {
     "name": "#%%\n"
    }
   },
   "outputs": [],
   "source": [
    "# group cutouts by their associated targets and upsample GALEX cutouts to\n",
    "# match PS1 cutouts, producing three unscaled channels per target\n",
    "unscaled_channels = cutouts_to_channels(cutouts)\n",
    "\n",
    "# channel-scaling settings. certain objects/fields might look better\n",
    "# with different parameters.\n",
    "GALEX_LIFT_THRESHOLD = None\n",
    "PS_CENTILES=(25, 99.9)\n",
    "GALEX_CENTILES=(0, 98)\n",
    "\n",
    "# display multiband images of each target.\n",
    "plt.close('all')\n",
    "for obj_id, bands in unscaled_channels.items():\n",
    "    fig, ax = plt.subplots()\n",
    "    ax.imshow(\n",
    "        ps_galex_stack(\n",
    "            bands['z'], \n",
    "            bands['g'], \n",
    "            bands['nuv'],\n",
    "            lift_threshold=GALEX_LIFT_THRESHOLD,\n",
    "            ps_range=PS_CENTILES,\n",
    "            galex_range=GALEX_CENTILES\n",
    "        )\n",
    "    )\n",
    "    fig.suptitle(obj_id)"
   ]
  }
 ],
 "metadata": {
  "kernelspec": {
   "display_name": "Python 3 (ipykernel)",
   "language": "python",
   "name": "python3"
  },
  "language_info": {
   "codemirror_mode": {
    "name": "ipython",
    "version": 3
   },
   "file_extension": ".py",
   "mimetype": "text/x-python",
   "name": "python",
   "nbconvert_exporter": "python",
   "pygments_lexer": "ipython3",
   "version": "3.9.13"
  }
 },
 "nbformat": 4,
 "nbformat_minor": 5
}