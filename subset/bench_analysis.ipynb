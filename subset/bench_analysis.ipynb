{
 "cells": [
  {
   "cell_type": "code",
   "execution_count": null,
   "id": "fbef3cc1",
   "metadata": {
    "pycharm": {
     "name": "#%%\n"
    }
   },
   "outputs": [],
   "source": [
    "\"\"\"stub notebook for examining benchmark results\"\"\"\n",
    "import numpy as np\n",
    "\n",
    "from subset.benchmark.bench_utils import load_benchmark_results"
   ]
  },
  {
   "cell_type": "code",
   "execution_count": null,
   "id": "3a33c990",
   "metadata": {
    "pycharm": {
     "name": "#%%\n"
    }
   },
   "outputs": [],
   "source": [
    "RESULT_DIRECTORY = \"bench_results\"\n",
    "SUMMARIZERS = (np.sum, np.mean, np.std, np.size)\n",
    "full_results, summary = load_benchmark_results(RESULT_DIRECTORY, SUMMARIZERS)\n",
    "summary[['title', 'duration_mean', 'volume_mean', 'cpu_busy_ratio_mean']]"
   ]
  },
  {
   "cell_type": "code",
   "execution_count": null,
   "id": "c4ea95b0",
   "metadata": {
    "pycharm": {
     "name": "#%%\n"
    }
   },
   "outputs": [],
   "source": [
    "# silly little example, we can have a nicer one later\n",
    "import matplotlib.pyplot as plt\n",
    "%matplotlib notebook\n",
    "\n",
    "jwst = summary.loc[summary['dataset'] == 'jwst_crf']\n",
    "test_cases = jwst.loc[\n",
    "    (jwst['dims'] == (200, 200))\n",
    "    & (jwst['throttle'].isna())\n",
    "#     & (jwst['n_cuts'] == 20)\n",
    "].copy()\n",
    "test_cases = test_cases.sort_values(by=\"duration_mean\")\n",
    "plot_df = test_cases[['duration_mean', 'volume_mean', 'cpu_busy_ratio_mean']].copy()\n",
    "plot_df['volume_mean'] /= 100\n",
    "fig = plot_df.plot.bar()\n",
    "labels = fig.set_xticklabels(test_cases['loader'] + \"_\" + test_cases['n_cuts'].astype(str))"
   ]
  }
 ],
 "metadata": {
  "kernelspec": {
   "display_name": "Python 3 (ipykernel)",
   "language": "python",
   "name": "python3"
  },
  "language_info": {
   "codemirror_mode": {
    "name": "ipython",
    "version": 3
   },
   "file_extension": ".py",
   "mimetype": "text/x-python",
   "name": "python",
   "nbconvert_exporter": "python",
   "pygments_lexer": "ipython3",
   "version": "3.9.13"
  }
 },
 "nbformat": 4,
 "nbformat_minor": 5
}