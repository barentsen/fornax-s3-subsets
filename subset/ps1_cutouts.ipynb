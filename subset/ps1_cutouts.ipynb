{
 "cells": [
  {
   "cell_type": "code",
   "execution_count": null,
   "id": "710f70e2",
   "metadata": {
    "pycharm": {
     "name": "#%%\n"
    }
   },
   "outputs": [],
   "source": [
    "from multiprocessing import cpu_count, Pool\n",
    "import os\n",
    "from pathlib import Path\n",
    "import shutil\n",
    "\n",
    "from killscreen.monitors import Netstat, Stopwatch\n",
    "from pyarrow import parquet\n",
    "\n",
    "# hacky; can remove if we decide to add an install script or put this in the repo root\n",
    "os.chdir(globals()['_dh'][0].parent)\n",
    "\n",
    "from subset.science.handlers import (\n",
    "    filter_ps1_catalog, sample_ps1_catalog, get_corresponding_images,\n",
    "    bulk_skycut\n",
    ")\n",
    "from subset.science.ps1_utils import ps1_stack_path, request_ps1_cutout, \\\n",
    "    PS1_CUT_CONSTANTS\n",
    "from subset.utilz.generic import make_loaders, parse_topline\n",
    "from subset.utilz.mount_s3 import mount_bucket"
   ]
  },
  {
   "cell_type": "code",
   "execution_count": null,
   "id": "ec99697a",
   "metadata": {
    "pycharm": {
     "name": "#%%\n",
     "is_executing": true
    }
   },
   "outputs": [],
   "source": [
    "# what bucket are our images and metadata files stored in?\n",
    "BUCKET = 'nishapur'\n",
    "# where, on the local filesystem, shall we create a FUSE mount for that bucket?\n",
    "S3_ROOT = '/mnt/s3'\n",
    "# mount that bucket to read metadata\n",
    "mount_bucket(remount=False, mount_path=S3_ROOT, bucket=BUCKET)\n",
    "# catalog of all mean objects from 1000 PS1 sky cells randomly selected from\n",
    "# \"extragalactic\" cells that overlap the viewports of GALEX visits, then filtered\n",
    "# to the \"best\" objects (qualityFlag bit 0b100000) with valid photometry in both\n",
    "# g and z bands (this filter leaves roughly 3% of total sources). other\n",
    "# similarly-formatted catalog files can be used.\n",
    "CATALOG_FN = \"ps1_eg_eclipses_subset_best_gz_coregistered.parquet\"\n",
    "if not Path(CATALOG_FN).exists():\n",
    "    shutil.copy(Path(S3_ROOT, \"ps1/metadata\", CATALOG_FN), Path(CATALOG_FN))\n",
    "catalog = parquet.read_table(CATALOG_FN).to_pandas()\n",
    "# cutouts in dimensions: ra, dec in degrees. treated as side lengths of a rectangle.\n",
    "CUT_SHAPE = (60 / 3600, 60 / 3600)\n",
    "# restrict to sources bright in both g and z? set to 'None' for no cutoff.\n",
    "MAG_CUTOFF = 20\n",
    "# restrict to only sources flagged as extended / not extended?\n",
    "# \"extended\", \"point\", or None for no restriction\n",
    "EXTENSION_TYPE = None\n",
    "# restrict to only sources with a valid stack detection? (probably a good idea)\n",
    "STACK_ONLY = True\n",
    "# which PS1 bands are we considering? (only g and z are currently staged, but you can stage more.)\n",
    "PS1_BANDS = (\"g\", \"z\")\n",
    "# how many targets shall we randomly select?\n",
    "TARGET_COUNT = 30\n",
    "# optional parameter -- restrict the total number of PS1 source cells to test the\n",
    "# performance effects of denser sampling. 1000 total cells are available in this test set.\n",
    "# note that the total number of images accessed is number of cells * number of bands.\n",
    "MAX_CELL_COUNT = 8\n",
    "# select loaders -- options are \"astropy\", \"fitsio\", \"greedy_astropy\", \"greedy_fitsio\"\n",
    "# NOTE: because all the files this particular notebook is looking\n",
    "# at are RICE-compressed, there is unlikely to be much difference\n",
    "# between astropy and greedy_astropy -- astropy does not support\n",
    "# loading individual tiles from a a tile-compressed FITS file.\n",
    "LOADERS = make_loaders(\"fitsio\",)"
   ]
  },
  {
   "cell_type": "code",
   "execution_count": null,
   "id": "e5ae7390",
   "metadata": {
    "pycharm": {
     "name": "#%%\n"
    }
   },
   "outputs": [],
   "source": [
    "# all sources that fit characteristic criteria\n",
    "candidate_sources = filter_ps1_catalog(catalog, MAG_CUTOFF, EXTENSION_TYPE, STACK_ONLY)\n",
    "# randomly-selected subset of those sources w/adequate metadata for cutout definition\n",
    "targets = sample_ps1_catalog(candidate_sources, TARGET_COUNT, MAX_CELL_COUNT)\n",
    "# add requested cut shape instructions to these target definitions\n",
    "targets = [t | {'ra_x': CUT_SHAPE[0], 'dec_x': CUT_SHAPE[1]} for t in targets]\n",
    "# make lists of the ps1 stack images these sources lie within\n",
    "# (so that we can easily initialize each relevant image only once)\n",
    "ps1_stacks, _ = get_corresponding_images(targets)"
   ]
  },
  {
   "cell_type": "code",
   "execution_count": null,
   "id": "97fe8e90",
   "metadata": {
    "pycharm": {
     "name": "#%%\n"
    }
   },
   "outputs": [],
   "source": [
    "# per-loader performance-tuning parameters.\n",
    "# image_chunksize: how many images shall we initialize at once?\n",
    "# image_threads: how many threads shall we init with in parallel? (None to disable.)\n",
    "# cut_threads: how many threads shall we cut with in parallel? (None to disable.)\n",
    "# note that S3 handles parallel requests very well; on a smaller instance, you will\n",
    "# usually run out of CPU or absolute input bandwidth before you exhaust its willingness to\n",
    "# serve parallel requests.\n",
    "TUNING = {\n",
    "    \"fitsio\": {\n",
    "        \"image_chunksize\": 40, \"image_threads\": cpu_count() * 7, \"cut_threads\": cpu_count() * 7\n",
    "    },\n",
    "    \"greedy_fitsio\": {\n",
    "        \"image_chunksize\": 10, \"image_threads\": cpu_count() * 2, \"cut_threads\": None\n",
    "    },\n",
    "    \"default\": {\n",
    "        \"image_chunksize\": 20, \"image_threads\": cpu_count() * 4, \"cut_threads\": cpu_count() * 4\n",
    "    },\n",
    "}"
   ]
  },
  {
   "cell_type": "code",
   "execution_count": null,
   "id": "9e0c07a2",
   "metadata": {
    "pycharm": {
     "name": "#%%\n"
    }
   },
   "outputs": [],
   "source": [
    "logs = {}\n",
    "for loader_name, loader in LOADERS.items():\n",
    "    # remount bucket to avoid \"cheating\" -- note that this is still a little cheaty\n",
    "    # because of unreliable, unmodifiable, and entirely black-box caching on S3 side, and loaders\n",
    "    # later in the list will tend to do better. for a 'fairer' comparison, reroll\n",
    "    # between each loader or juice serverside caching with throwaway tests (see benchmarking suite)\n",
    "    print(f\"----testing {loader_name}----\")\n",
    "    mount_bucket(remount=True, mount_path=S3_ROOT, bucket=BUCKET)\n",
    "    tuning_params = TUNING[loader_name] if loader_name in TUNING.keys() else TUNING[\"default\"]\n",
    "    cuts, logs[loader_name] = bulk_skycut(\n",
    "        ps1_stacks,\n",
    "        targets,\n",
    "        loader=loader,\n",
    "        return_cuts=True,\n",
    "        data_root=f\"{S3_ROOT}/ps1\",\n",
    "        bands=PS1_BANDS,\n",
    "        verbose=2,\n",
    "        **PS1_CUT_CONSTANTS,\n",
    "        **tuning_params\n",
    "    )\n",
    "    rate, weight = parse_topline(logs[loader_name])\n",
    "    print(f\"{rate} cutouts/s, {weight} MB / cutout\")"
   ]
  },
  {
   "cell_type": "code",
   "execution_count": null,
   "id": "d8c9b0bc",
   "metadata": {
    "pycharm": {
     "name": "#%%\n"
    }
   },
   "outputs": [],
   "source": [
    "# comparison to the PS1 cutout service. We can crank up the number of threads we're using...\n",
    "# but at some point we will essentially be attacking the service; no one else will be able to use it\n",
    "# (or it will be forced to block us).\n",
    "# also note that the PS1 cutout service _also_ performs serverside caching, so executing\n",
    "# multiple requests in a row against the same group of images will result in increased performance.\n",
    "\n",
    "REQUEST_THREADS = None\n",
    "watch, netstat = Stopwatch(silent=True), Netstat()\n",
    "watch.start(), netstat.update()\n",
    "req_cutouts = {}\n",
    "request_pool = Pool(REQUEST_THREADS) if REQUEST_THREADS is not None else None\n",
    "\n",
    "for target in targets:\n",
    "    for band in PS1_BANDS:\n",
    "        args = (\n",
    "            ps1_stack_path(target['proj_cell'], target['sky_cell'], band),\n",
    "            target['ra'],\n",
    "            target['dec'],\n",
    "            (CUT_SHAPE[0] + CUT_SHAPE[1]) / 2 * 3600,\n",
    "            \"fits\"\n",
    "        )\n",
    "        if request_pool is None:\n",
    "            req_cutouts[target['obj_id']] = request_ps1_cutout(*args)\n",
    "        else:\n",
    "            req_cutouts[target['obj_id']] = request_pool.apply_async(\n",
    "                request_ps1_cutout, args\n",
    "            )\n",
    "if request_pool is not None:\n",
    "    req_cutouts = {\n",
    "        obj_id: result.get() for obj_id, result in req_cutouts.items()\n",
    "    }\n",
    "netstat.update()\n",
    "count = len(targets) * len(PS1_BANDS)\n",
    "sec = watch.peek()\n",
    "vol = list(netstat.total.values())[-1] / 1024 ** 2\n",
    "print(\n",
    "    f\"made {count} cutouts,{sec} total seconds,{round(vol, 2)} total MB,\\n\"\n",
    "    f\"{round(count / sec, 2)} cutouts / s,{round(vol / count, 2)} MB/cutout\"\n",
    ")"
   ]
  }
 ],
 "metadata": {
  "kernelspec": {
   "display_name": "Python 3 (ipykernel)",
   "language": "python",
   "name": "python3"
  },
  "language_info": {
   "codemirror_mode": {
    "name": "ipython",
    "version": 3
   },
   "file_extension": ".py",
   "mimetype": "text/x-python",
   "name": "python",
   "nbconvert_exporter": "python",
   "pygments_lexer": "ipython3",
   "version": "3.9.13"
  }
 },
 "nbformat": 4,
 "nbformat_minor": 5
}