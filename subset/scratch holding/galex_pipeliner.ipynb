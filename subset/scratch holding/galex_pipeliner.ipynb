{
 "cells": [
  {
   "cell_type": "code",
   "execution_count": 1,
   "id": "acbbece2",
   "metadata": {
    "pycharm": {
     "name": "#%%\n"
    }
   },
   "outputs": [
    {
     "ename": "ModuleNotFoundError",
     "evalue": "No module named 's3_fuse'",
     "output_type": "error",
     "traceback": [
      "\u001B[0;31m---------------------------------------------------------------------------\u001B[0m",
      "\u001B[0;31mModuleNotFoundError\u001B[0m                       Traceback (most recent call last)",
      "Input \u001B[0;32mIn [1]\u001B[0m, in \u001B[0;36m<cell line: 16>\u001B[0;34m()\u001B[0m\n\u001B[1;32m     13\u001B[0m \u001B[38;5;28;01mfrom\u001B[39;00m \u001B[38;5;21;01mkillscreen\u001B[39;00m\u001B[38;5;21;01m.\u001B[39;00m\u001B[38;5;21;01msubutils\u001B[39;00m \u001B[38;5;28;01mimport\u001B[39;00m console_stream_handlers\n\u001B[1;32m     14\u001B[0m \u001B[38;5;28;01mimport\u001B[39;00m \u001B[38;5;21;01msh\u001B[39;00m\n\u001B[0;32m---> 16\u001B[0m \u001B[38;5;28;01mfrom\u001B[39;00m \u001B[38;5;21;01msubset\u001B[39;00m\u001B[38;5;21;01m.\u001B[39;00m\u001B[38;5;21;01mscience\u001B[39;00m\u001B[38;5;21;01m.\u001B[39;00m\u001B[38;5;21;01mgalex_utils\u001B[39;00m \u001B[38;5;28;01mimport\u001B[39;00m pick_galex_eclipses\n\u001B[1;32m     18\u001B[0m OUT, ERR \u001B[38;5;241m=\u001B[39m [], []\n\u001B[1;32m     19\u001B[0m OUT_HANDLER, ERR_HANDLER \u001B[38;5;241m=\u001B[39m console_stream_handlers(OUT, ERR)\n",
      "File \u001B[0;32m~/Desktop/fornax-s3-subsets/subset/science/galex_utils.py:19\u001B[0m, in \u001B[0;36m<module>\u001B[0;34m\u001B[0m\n\u001B[1;32m     16\u001B[0m \u001B[38;5;28;01mfrom\u001B[39;00m \u001B[38;5;21;01mmore_itertools\u001B[39;00m \u001B[38;5;28;01mimport\u001B[39;00m chunked\n\u001B[1;32m     17\u001B[0m \u001B[38;5;28;01mfrom\u001B[39;00m \u001B[38;5;21;01mpyarrow\u001B[39;00m \u001B[38;5;28;01mimport\u001B[39;00m parquet\n\u001B[0;32m---> 19\u001B[0m \u001B[38;5;28;01mfrom\u001B[39;00m \u001B[38;5;21;01msubset\u001B[39;00m\u001B[38;5;21;01m.\u001B[39;00m\u001B[38;5;21;01mutilz\u001B[39;00m\u001B[38;5;21;01m.\u001B[39;00m\u001B[38;5;21;01mfits\u001B[39;00m \u001B[38;5;28;01mimport\u001B[39;00m logged_fits_initializer\n\u001B[1;32m     20\u001B[0m \u001B[38;5;28;01mfrom\u001B[39;00m \u001B[38;5;21;01msubset\u001B[39;00m\u001B[38;5;21;01m.\u001B[39;00m\u001B[38;5;21;01mutilz\u001B[39;00m\u001B[38;5;21;01m.\u001B[39;00m\u001B[38;5;21;01mgeneric\u001B[39;00m \u001B[38;5;28;01mimport\u001B[39;00m cleanup_greedy_shm\n\u001B[1;32m     23\u001B[0m \u001B[38;5;28;01mdef\u001B[39;00m \u001B[38;5;21mget_galex_version_path\u001B[39m(eclipse, band, depth, obj, version, data_root):\n",
      "File \u001B[0;32m~/Desktop/fornax-s3-subsets/subset/utilz/fits.py:11\u001B[0m, in \u001B[0;36m<module>\u001B[0;34m\u001B[0m\n\u001B[1;32m      9\u001B[0m \u001B[38;5;28;01mfrom\u001B[39;00m \u001B[38;5;21;01mcytoolz\u001B[39;00m \u001B[38;5;28;01mimport\u001B[39;00m keyfilter\n\u001B[1;32m     10\u001B[0m \u001B[38;5;28;01mfrom\u001B[39;00m \u001B[38;5;21;01mkillscreen\u001B[39;00m\u001B[38;5;21;01m.\u001B[39;00m\u001B[38;5;21;01mmonitors\u001B[39;00m \u001B[38;5;28;01mimport\u001B[39;00m make_monitors\n\u001B[0;32m---> 11\u001B[0m \u001B[38;5;28;01mfrom\u001B[39;00m \u001B[38;5;21;01ms3_fuse\u001B[39;00m\u001B[38;5;21;01m.\u001B[39;00m\u001B[38;5;21;01mutilz\u001B[39;00m \u001B[38;5;28;01mimport\u001B[39;00m crudely_find_library\n\u001B[1;32m     14\u001B[0m \u001B[38;5;28;01mdef\u001B[39;00m \u001B[38;5;21mmake_tiled_galex_object\u001B[39m(\n\u001B[1;32m     15\u001B[0m     eclipse: \u001B[38;5;28mint\u001B[39m,\n\u001B[1;32m     16\u001B[0m     band: Literal[\u001B[38;5;124m\"\u001B[39m\u001B[38;5;124mNUV\u001B[39m\u001B[38;5;124m\"\u001B[39m, \u001B[38;5;124m\"\u001B[39m\u001B[38;5;124mFUV\u001B[39m\u001B[38;5;124m\"\u001B[39m],\n\u001B[0;32m   (...)\u001B[0m\n\u001B[1;32m     22\u001B[0m     return_obj: \u001B[38;5;28mbool\u001B[39m \u001B[38;5;241m=\u001B[39m \u001B[38;5;28;01mTrue\u001B[39;00m,\n\u001B[1;32m     23\u001B[0m ):\n\u001B[1;32m     24\u001B[0m     \u001B[38;5;124;03m\"\"\"convert a gzipped galex data object to a RICE-compressed version\"\"\"\u001B[39;00m\n",
      "\u001B[0;31mModuleNotFoundError\u001B[0m: No module named 's3_fuse'"
     ]
    }
   ],
   "source": [
    "\"\"\"\n",
    "execute the gPhoton pipeline from a Notebook.\n",
    "(gPhoton not included).\n",
    "\n",
    "while not the recommended method, you might find it \n",
    "convenient for generating test data.\n",
    "\"\"\"\n",
    "\n",
    "import os\n",
    "from pathlib import Path\n",
    "import random\n",
    "\n",
    "from killscreen.subutils import console_stream_handlers\n",
    "import sh\n",
    "\n",
    "from subset.science.galex_utils import pick_galex_eclipses\n",
    "\n",
    "OUT, ERR = [], []\n",
    "OUT_HANDLER, ERR_HANDLER = console_stream_handlers(OUT, ERR)\n",
    "\n",
    "def execute_gphoton_pipeline(**pipeline_kwargs):\n",
    "    return sh.python(\n",
    "        Path(os.getcwd(), \"gphoton_pipeline.py\"),\n",
    "            **pipeline_kwargs,\n",
    "            _bg=True,\n",
    "            _bg_exc=False,\n",
    "            _out=OUT_HANDLER,\n",
    "            _err=ERR_HANDLER,\n",
    "        )\n"
   ]
  },
  {
   "cell_type": "code",
   "execution_count": null,
   "id": "fbc69b52",
   "metadata": {
    "pycharm": {
     "name": "#%%\n"
    }
   },
   "outputs": [],
   "source": [
    "LOCAL_ROOT, S3_ROOT = '/home/ubuntu/storage', '/home/ubuntu/s3'\n",
    "\n",
    "default_settings = {\n",
    "    \"threads\": 4, \n",
    "    \"recreate\": False, \n",
    "    \"local_root\": \"/home/ubuntu/storage/\",\n",
    "}\n",
    "run_settings = {\n",
    "    \"eclipse\": None, \n",
    "    \"band\": \"NUV\", \n",
    "    \"depth\": 30,\n",
    "    \"write\": {\"image\": True, \"movie\": False}\n",
    "}"
   ]
  },
  {
   "cell_type": "code",
   "execution_count": null,
   "id": "17a5e970",
   "metadata": {
    "scrolled": false,
    "pycharm": {
     "name": "#%%\n"
    }
   },
   "outputs": [],
   "source": [
    "# this runs against raw6 (L0 GALEX telemetry) files. if you don't have them\n",
    "# locally -- and why would you? -- it will download them from MAST.\n",
    "# performance of this pipeline may vary wildly depending on your system\n",
    "# settings.\n",
    "\n",
    "picks = random.sample(pick_galex_eclipses, k=10)\n",
    "for eclipse in picks:\n",
    "    pipe_kwargs = default_settings | run_settings | {\"eclipse\": eclipse}\n",
    "    process = execute_gphoton_pipeline(**pipe_kwargs)\n",
    "    process.wait()"
   ]
  }
 ],
 "metadata": {
  "kernelspec": {
   "display_name": "Python 3 (ipykernel)",
   "language": "python",
   "name": "python3"
  },
  "language_info": {
   "codemirror_mode": {
    "name": "ipython",
    "version": 3
   },
   "file_extension": ".py",
   "mimetype": "text/x-python",
   "name": "python",
   "nbconvert_exporter": "python",
   "pygments_lexer": "ipython3",
   "version": "3.9.10"
  }
 },
 "nbformat": 4,
 "nbformat_minor": 5
}